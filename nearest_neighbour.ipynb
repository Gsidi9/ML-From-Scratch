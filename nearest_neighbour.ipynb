{
 "cells": [
  {
   "cell_type": "markdown",
   "metadata": {},
   "source": [
    "# Nearest Neighbour Algorithm (NNA)"
   ]
  },
  {
   "cell_type": "markdown",
   "metadata": {},
   "source": [
    "NNA is a supervised learning algorithm that classifies a new data point into the target class, depending on the features of its neighbour data points. It works by calculating the distance of 1 test observation from all the observation of the training dataset and then finds the nearest neighbours of it. This happens for each, and every test observation and that is how it finds similarities in the data. This algorithm is non-parametric because it does not assume any kind of distribution or any kind of functional relationship between the data points.NNA is considered a lazy algorithm compare to other machine learning algorithm as it does not have training steps."
   ]
  },
  {
   "cell_type": "markdown",
   "metadata": {},
   "source": [
    "## Calculating Distance "
   ]
  },
  {
   "cell_type": "markdown",
   "metadata": {},
   "source": [
    "Distance measurements are key components to NNA . The distance function tells the nearest neighbour. Depending on the distance function, you can get different classifiers and performance. \n",
    "\n",
    "**Minkowski Distance**\n",
    "\n",
    "Minkowski Distance is the generalized form of Euclidean and Manhattan distance.\n",
    "\n",
    "d(i,j)=$\\sqrt[p]{x_i1 - x_j1 |[p]$ + |{x_i2 - x_j2}|[p] +...+|x_il - x_jl}$\n",
    "\n",
    "where i = ($x_i1,x_i2,....,x_il $) and j = ($x_j1,x_j2,....,x_jl $) are two l dimensional data objects, and p is the order (the distance)\n",
    "\n",
    "Minkowski distance is typically used with p being 1 or 2.\n",
    "\n",
    "if p = 2 is Euclidian Distance\n",
    "\n",
    "if p = 1 is Manhattan Distance\n",
    "\n"
   ]
  },
  {
   "cell_type": "markdown",
   "metadata": {},
   "source": [
    " ## Table of Contents\n",
    "**PART A:**\n",
    "  * Importing Data\n",
    "  * Calculating Nearest Neighbour\n",
    "  *  Euclidean Distance (P=1): Accuracy, Sensitivity and Specificity\n",
    "  *  Manhattan distance (P=2): Accuracy, Sensitivity and Specificity\n",
    "\n",
    "**PART B:**\n",
    "  * Minkowski distance (P=9): Accuracy, Sensitivity and Specificity\n"
   ]
  },
  {
   "cell_type": "markdown",
   "metadata": {},
   "source": [
    "# PART A"
   ]
  },
  {
   "cell_type": "code",
   "execution_count": 1,
   "metadata": {},
   "outputs": [],
   "source": [
    "# import libraries\n",
    "import pandas as pd\n",
    "import numpy as np"
   ]
  },
  {
   "cell_type": "code",
   "execution_count": 2,
   "metadata": {},
   "outputs": [],
   "source": [
    "# import train and test datasets\n",
    "X_train = pd.read_csv(\"/Users/goundosidibe/Downloads/sonar_train.csv\")\n",
    "X_test = pd.read_csv(\"/Users/goundosidibe/Downloads/sonar_test.csv\")"
   ]
  },
  {
   "cell_type": "code",
   "execution_count": 3,
   "metadata": {},
   "outputs": [],
   "source": [
    "#Converting the target values to numbers\n",
    "X_train['Class'] = X_train['Class'].map(lambda x : 0 if x=='M' else 1)\n",
    "\n",
    "X_test['Class'] = X_test['Class'].map(lambda x : 0 if x=='M' else 1)"
   ]
  },
  {
   "cell_type": "code",
   "execution_count": 4,
   "metadata": {},
   "outputs": [],
   "source": [
    "# training target variable\n",
    "y_train = X_train.Class\n",
    "# removing the target variable from the dataset\n",
    "X_train = X_train[X_train.columns[:-1]]"
   ]
  },
  {
   "cell_type": "code",
   "execution_count": 5,
   "metadata": {},
   "outputs": [],
   "source": [
    "#test target variable\n",
    "y_test = X_test.Class\n",
    "# removing the target variable from the dataset\n",
    "X_test = X_test[X_test.columns[:-1]]"
   ]
  },
  {
   "cell_type": "code",
   "execution_count": 6,
   "metadata": {},
   "outputs": [
    {
     "name": "stdout",
     "output_type": "stream",
     "text": [
      "X_train:  (139, 60) \n",
      "\n",
      "y_train:  (139,) \n",
      "\n",
      "X_test:  (69, 60) \n",
      "\n",
      "y_test:  (69,)\n"
     ]
    }
   ],
   "source": [
    "print(\"X_train: \" ,X_train.shape, \"\\n\")\n",
    "print(\"y_train: \" ,y_train.shape, \"\\n\")\n",
    "print(\"X_test: \" ,X_test.shape, \"\\n\")\n",
    "print(\"y_test: \" ,y_test.shape)"
   ]
  },
  {
   "cell_type": "code",
   "execution_count": 7,
   "metadata": {},
   "outputs": [],
   "source": [
    "X_test = np.array(X_test)\n",
    "X_train = np.array(X_train)\n",
    "y_train = np.array(y_train)\n",
    "y_test = np.array(y_test)"
   ]
  },
  {
   "cell_type": "code",
   "execution_count": 8,
   "metadata": {},
   "outputs": [],
   "source": [
    "# The minkowski distance function takes an input of two data points (in1 & in2) and a Minkowski power parameter p. \n",
    "#By adjusting parameter p , I can calculate Manhattan distance (p=1), Euclidean distance (p=2).\n",
    "\n",
    "def minkowski_distance(in1, in2, p=1):\n",
    "      #  Set initial distance to 0\n",
    "    dist = 0\n",
    "     # Calculate minkowski distance using parameter p\n",
    "    for j in range(len(in1)):\n",
    "        dist = dist + abs(in1[j]-in2[j])**p\n",
    "    dist = np.sqrt(dist)**(1/p)\n",
    "    return dist;\n",
    " "
   ]
  },
  {
   "cell_type": "code",
   "execution_count": 9,
   "metadata": {},
   "outputs": [],
   "source": [
    "\n",
    "#the predict function takes in all of the training and test data, k, and p, and returns the predictions.\n",
    "#The function should return a list of label predictions containing only 0’s and 1’s.\n",
    "\n",
    "def predict(x_train, y , x_input, k,p):\n",
    "    op_labels = []\n",
    "     \n",
    "    #Loop through the Datapoints to be classified\n",
    "    for item in x_input: \n",
    "         \n",
    "        #Array to store distances\n",
    "        point_dist = []\n",
    "         \n",
    "        #Loop through each training Data\n",
    "        for j in range(len(x_train)): \n",
    "            distances = minkowski_distance(np.array(x_train[j,:]) , item) \n",
    "            #Calculating the distance\n",
    "            point_dist.append(distances) \n",
    "        point_dist = np.array(point_dist) \n",
    "         \n",
    "        #Sorting the array while preserving the index\n",
    "        #Keeping the first K datapoints\n",
    "        dist = np.argsort(point_dist)[:k] \n",
    "        k_labels = [y[n] for n in dist]\n",
    "        # count neighbor labels and take the label which has max count\n",
    "        labels_counts = np.bincount(k_labels)\n",
    "        op_labels.append(np.argmax(labels_counts))\n",
    "    return np.array(op_labels)\n",
    "         \n",
    "\n",
    "l = predict(X_train, y_train, X_test, k = 1 , p=1)\n",
    "\n",
    "def calculateAccuracy(y_test,Y_pred):\n",
    "    #retuns the accuracy\n",
    "    accuracy = len(y_test[np.where(y_test==Y_pred)])/len(Y_pred) \n",
    "    return accuracy\n",
    "\n"
   ]
  },
  {
   "cell_type": "code",
   "execution_count": 10,
   "metadata": {},
   "outputs": [
    {
     "name": "stdout",
     "output_type": "stream",
     "text": [
      "predicted values:  [1 0 0 1 1 0 0 0 0 0 1 1 1 1 0 0 0 1 0 0 0 1 1 1 1 0 1 1 0 0 0 0 0 1 0 0 0\n",
      " 0 0 1 1 0 0 0 1 1 1 0 1 1 0 1 0 0 0 1 0 1 0 1 0 0 0 1 0 0 0 0 1] \n",
      "\n",
      "target values: [1 0 0 1 1 1 0 0 0 1 1 1 1 1 1 0 0 0 0 0 0 1 1 1 1 0 1 1 0 0 0 0 0 1 0 0 0\n",
      " 0 0 1 1 0 0 0 1 1 1 0 1 1 0 1 1 0 0 1 0 1 0 0 1 0 0 1 0 0 1 0 1] \n",
      "\n",
      "accuracy: 0.8840579710144928\n"
     ]
    }
   ],
   "source": [
    "print(\"predicted values: \", np.array(l), \"\\n\")\n",
    "\n",
    "print(\"target values:\", y_test, \"\\n\")\n",
    "\n",
    "print(\"accuracy:\", calculateAccuracy(y_test, l))\n"
   ]
  },
  {
   "cell_type": "markdown",
   "metadata": {},
   "source": [
    "# Euclidean Distance (P=1)"
   ]
  },
  {
   "cell_type": "code",
   "execution_count": 11,
   "metadata": {},
   "outputs": [
    {
     "name": "stdout",
     "output_type": "stream",
     "text": [
      "predicted values:  [1 0 0 1 1 0 0 0 0 0 1 1 1 1 0 0 0 1 0 0 0 1 1 1 1 0 1 1 0 0 0 0 0 1 0 0 0\n",
      " 0 0 1 1 0 0 0 1 1 1 0 1 1 0 1 0 0 0 1 0 1 0 1 0 0 0 1 0 0 0 0 1] \n",
      "\n",
      "target values:  [1 0 0 1 1 1 0 0 0 1 1 1 1 1 1 0 0 0 0 0 0 1 1 1 1 0 1 1 0 0 0 0 0 1 0 0 0\n",
      " 0 0 1 1 0 0 0 1 1 1 0 1 1 0 1 1 0 0 1 0 1 0 0 1 0 0 1 0 0 1 0 1] \n",
      "\n",
      "accuracy: 88.41 % \n",
      "\n",
      "sensitivity: 81.25 % \n",
      "\n",
      "specification: 94.59 % \n",
      "\n"
     ]
    }
   ],
   "source": [
    "\n",
    "y_ =  predict(X_train, y_train, X_test, k = 1 , p=1)\n",
    "\n",
    "\n",
    "def calculateAccuracy(y_test,Y_pred):\n",
    "    #retuns the accuracy\n",
    "    accuracy = len(y_test[np.where(y_test==Y_pred)])/len(Y_pred) \n",
    "    return accuracy\n",
    "\n",
    "\n",
    "def classification_metrics(y_test, y_):\n",
    "    '''\n",
    "    True positive - actual = 1, predicted = 1\n",
    "    False positive - actual = 1, predicted = 0\n",
    "    False negative - actual = 0, predicted = 1\n",
    "    True negative - actual = 0, predicted = 0\n",
    "    '''\n",
    "    tp = sum((y_test == 1) & (y_ == 1))\n",
    "    tn = sum((y_test == 0) & (y_ == 0))\n",
    "    fn = sum((y_test == 1) & (y_ == 0))\n",
    "    fp = sum((y_test == 0) & (y_ == 1))\n",
    "    return tp, tn, fp, fn\n",
    "\n",
    "\n",
    "#     tp_cl= True positive classification \n",
    "#     tn_cl = True negative classification\n",
    "#      ...\n",
    "    \n",
    "tp_cl, tn_cl, fp_cl, fn_cl = classification_metrics(y_test, y_)\n",
    "\n",
    "\n",
    "\n",
    "def accuracy(tp, tn, fn, fp):\n",
    "    \n",
    "    '''Accuracy = (TP+TN)/(TP+FP+FN+TN)'''\n",
    "    \n",
    "    return ((tp + tn) * 100)/ float( tp + tn + fn + fp)\n",
    "\n",
    "\n",
    "\n",
    "def sensitivity(tp, fn):\n",
    "    \n",
    "    '''sensitivity = TP/(TP+FN) '''\n",
    "    \n",
    "    return (tp  * 100)/ float( tp + fn)\n",
    "\n",
    "\n",
    "def specification(tn, fp):\n",
    "    \n",
    "    '''specificity = TN/(TN+FP)'''\n",
    "    \n",
    "    return (tn  * 100)/ float( tn + fp)\n",
    "\n",
    "\n",
    "\n",
    "print(\"predicted values: \", np.array(l), \"\\n\")\n",
    "print(\"target values: \", (y_test),  \"\\n\")\n",
    "print(\"accuracy: %.2f\" %(accuracy(tp_cl, tn_cl, fn_cl, fp_cl)),\"%\", \"\\n\")\n",
    "print(\"sensitivity: %.2f\" %sensitivity(tp_cl, fn_cl),\"%\", \"\\n\")\n",
    "print(\"specification: %.2f\" %specification(tn_cl, fp_cl),\"%\", \"\\n\")\n"
   ]
  },
  {
   "cell_type": "markdown",
   "metadata": {},
   "source": [
    "# Manhattan Distance (P=2)"
   ]
  },
  {
   "cell_type": "code",
   "execution_count": 12,
   "metadata": {},
   "outputs": [
    {
     "name": "stdout",
     "output_type": "stream",
     "text": [
      "predicted values:  [1 0 0 1 1 0 0 0 0 0 1 1 1 1 0 0 0 1 0 0 0 1 1 1 1 0 1 1 0 0 0 0 0 1 0 0 0\n",
      " 0 0 1 1 0 0 0 0 1 1 0 1 1 0 1 1 0 0 1 0 1 0 0 1 0 0 1 0 0 0 0 0] \n",
      "\n",
      "target values:  [1 0 0 1 1 1 0 0 0 1 1 1 1 1 1 0 0 0 0 0 0 1 1 1 1 0 1 1 0 0 0 0 0 1 0 0 0\n",
      " 0 0 1 1 0 0 0 1 1 1 0 1 1 0 1 1 0 0 1 0 1 0 0 1 0 0 1 0 0 1 0 1] \n",
      "\n",
      "accuracy: 89.86 % \n",
      "\n",
      "sensitivity: 81.25 % \n",
      "\n",
      "specification: 97.30 % \n",
      "\n"
     ]
    }
   ],
   "source": [
    "def minkowski_distance(in1, in2, p=2):\n",
    "      #  Set initial distance to 0\n",
    "    dist = 0\n",
    "     # Calculate minkowski distance using parameter p\n",
    "    for j in range(len(in1)):\n",
    "        dist = dist + abs(in1[j]-in2[j])**p\n",
    "    dist = np.sqrt(dist)**(1/p)\n",
    "    return dist\n",
    "\n",
    "\n",
    "m =  predict(X_train, y_train, X_test, k = 1 , p=2)\n",
    "\n",
    "    \n",
    "tp_cl, tn_cl, fp_cl, fn_cl = classification_metrics(y_test, m)\n",
    "\n",
    "print(\"predicted values: \", np.array(m), \"\\n\")\n",
    "print(\"target values: \", (y_test), \"\\n\")\n",
    "print(\"accuracy: %.2f\" %(accuracy(tp_cl, tn_cl, fn_cl, fp_cl)),\"%\", \"\\n\")\n",
    "print(\"sensitivity: %.2f\" %sensitivity(tp_cl, fn_cl),\"%\", \"\\n\")\n",
    "print(\"specification: %.2f\" %specification(tn_cl, fp_cl),\"%\",\"\\n\")\n",
    "\n"
   ]
  },
  {
   "cell_type": "markdown",
   "metadata": {},
   "source": [
    "# PART B"
   ]
  },
  {
   "cell_type": "code",
   "execution_count": 13,
   "metadata": {},
   "outputs": [
    {
     "name": "stdout",
     "output_type": "stream",
     "text": [
      "predicted values:  [1 0 0 0 1 0 1 0 0 0 1 1 0 1 0 0 0 1 1 0 0 1 1 1 1 0 1 0 0 0 0 0 0 1 0 0 1\n",
      " 0 0 1 1 0 0 0 0 1 1 0 1 1 0 1 0 0 0 1 0 1 0 0 1 0 1 1 0 0 0 0 0] \n",
      "\n",
      "target values:  [1 0 0 1 1 1 0 0 0 1 1 1 1 1 1 0 0 0 0 0 0 1 1 1 1 0 1 1 0 0 0 0 0 1 0 0 0\n",
      " 0 0 1 1 0 0 0 1 1 1 0 1 1 0 1 1 0 0 1 0 1 0 0 1 0 0 1 0 0 1 0 1] \n",
      "\n",
      "accuracy: 89.86 % \n",
      "\n",
      "sensitivity: 81.25 % \n",
      "\n",
      "specification: 97.30 % \n",
      "\n"
     ]
    }
   ],
   "source": [
    "def minkowski_distance(in1, in2, p=15):\n",
    "      #  Set initial distance to 0\n",
    "    dist = 0\n",
    "     # Calculate minkowski distance using parameter p\n",
    "    for j in range(len(in1)):\n",
    "        dist = dist + abs(in1[j]-in2[j])**p\n",
    "    dist = np.sqrt(dist)**(1/p)\n",
    "    return dist;\n",
    " \n",
    "\n",
    "r =  predict(X_train, y_train, X_test, k = 1 , p=15)\n",
    "\n",
    "print(\"predicted values: \", np.array(r), \"\\n\")\n",
    "print(\"target values: \", (y_test),\"\\n\")\n",
    "print(\"accuracy: %.2f\" %(accuracy(tp_cl, tn_cl, fn_cl, fp_cl)),\"%\",\"\\n\")\n",
    "print(\"sensitivity: %.2f\" %sensitivity(tp_cl, fn_cl),\"%\",\"\\n\")\n",
    "print(\"specification: %.2f\" %specification(tn_cl, fp_cl),\"%\",\"\\n\")\n"
   ]
  },
  {
   "cell_type": "code",
   "execution_count": null,
   "metadata": {},
   "outputs": [],
   "source": []
  }
 ],
 "metadata": {
  "kernelspec": {
   "display_name": "Python 3",
   "language": "python",
   "name": "python3"
  },
  "language_info": {
   "codemirror_mode": {
    "name": "ipython",
    "version": 3
   },
   "file_extension": ".py",
   "mimetype": "text/x-python",
   "name": "python",
   "nbconvert_exporter": "python",
   "pygments_lexer": "ipython3",
   "version": "3.7.4"
  }
 },
 "nbformat": 4,
 "nbformat_minor": 2
}

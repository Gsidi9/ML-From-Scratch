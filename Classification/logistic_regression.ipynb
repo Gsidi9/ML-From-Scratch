{
 "cells": [
  {
   "cell_type": "markdown",
   "metadata": {},
   "source": [
    "# Logistic Regression\n",
    "Logistic regression is a statistical method for analyzing a dataset in which there are one or more independent variables that determine an outcome. The outcome is measured with a categorical variable, where there are only two possible outcomes. The goal of logistic regression is to find the best fitting model to describe the relationship between the categorical (0's,1's) characteristic of interest, and a set of independent variables. [Reference](https://bradzzz.gitbooks.io/ga-seattle-dsi/content/dsi/dsi_04_logistic_regression_stats/2.1-lesson/readme.html). Logistic Function :\n",
    "\n",
    "**Input**: Independent variable (X)\n",
    "\n",
    "**Parameters**: Weight and bias. \n",
    "\n",
    "**Outpu**t: Dependent variable (Y)\n",
    "\n",
    "**Activation Function**: calculates the weighted sum of its inputs, adds a bias and decides whether it should be label 0 or 1.\n",
    "\n",
    "$$ σ = \\frac{1}{1 + e^-x}\\sum_{i=1}^{m}  $$\n",
    "$$ sigmoid calculation = σ(W^T * X + b)$$\n",
    "\n",
    "**Loss Function:** measures how well the output of the model agrees with the ground truth labels(Y) in the training data and finds a set of parameters that reduce the value of the loss function.\n",
    "\n",
    "$$ cost= - \\frac{1}{m}\\sum_{i=1}^{m}[y*log(a)+(1-y)* log(1-a)]$$\n",
    "\n",
    "**Gradient Descent** :Used to minimize the cost function and the parameters (W,b).\n",
    "\n",
    "$$ dW = - \\frac{\\partial Cost}{\\partial W} = (A - Y)* X^T.... shape(1Xn)$$\n",
    "$$ dW = - \\frac{\\partial Cost}{\\partial B} = (A - Y) $$\n",
    "$$ W = W - a * dW^T $$\n",
    "$$ B = B - a * dB $$\n"
   ]
  },
  {
   "cell_type": "code",
   "execution_count": 1,
   "metadata": {},
   "outputs": [],
   "source": [
    "import numpy as np\n",
    "import matplotlib.pyplot as plt"
   ]
  },
  {
   "cell_type": "code",
   "execution_count": 2,
   "metadata": {},
   "outputs": [],
   "source": [
    "c = np.ones((20,1))# biased data to add to x\n",
    "X = np.asarray ([[0.50], [0.75], [1.00], [1.25], [1.50], [1.75], [3.00], [4.75], [1.75], [3.25], [5.00], [2.00], [2.25], [2.50], [2.75], [3.50], [4.00], [4.25], [4.50], [5.50]])\n",
    "y = np.asarray([0, 0, 0, 0, 0, 0, 1, 0, 1, 0, 1,0,1,0,1,1,1,1,1,1])\n",
    "X=np.concatenate((c,X),axis=1)#adds biased term to the test set"
   ]
  },
  {
   "cell_type": "code",
   "execution_count": 3,
   "metadata": {},
   "outputs": [
    {
     "data": {
      "text/plain": [
       "<matplotlib.collections.PathCollection at 0x111091c10>"
      ]
     },
     "execution_count": 3,
     "metadata": {},
     "output_type": "execute_result"
    },
    {
     "data": {
      "image/png": "[encoded data removed]",
      "text/plain": [
       "<Figure size 432x288 with 1 Axes>"
      ]
     },
     "metadata": {
      "needs_background": "light"
     },
     "output_type": "display_data"
    }
   ],
   "source": [
    "plt.scatter(X[:,1],y)"
   ]
  },
  {
   "cell_type": "code",
   "execution_count": 4,
   "metadata": {},
   "outputs": [
    {
     "name": "stdout",
     "output_type": "stream",
     "text": [
      "X_train:  (12, 2) \n",
      "\n",
      "y_train:  (12,) \n",
      "\n",
      "X_test:  (8, 2) \n",
      "\n",
      "y_test:  (8,)\n"
     ]
    }
   ],
   "source": [
    "#splits our data into tthetao sets (a training and testing set)\n",
    "#split : 80% train and 20% test\n",
    "train_index = int(0.6 * len(X))\n",
    "X_train, X_test = X[:train_index], X[train_index:] \n",
    "y_train, y_test = y[:train_index], y[train_index:]\n",
    "\n",
    "print(\"X_train: \" ,X_train.shape, \"\\n\")\n",
    "print(\"y_train: \" ,y_train.shape, \"\\n\")\n",
    "print(\"X_test: \" ,X_test.shape, \"\\n\")\n",
    "print(\"y_test: \" ,y_test.shape)"
   ]
  },
  {
   "cell_type": "code",
   "execution_count": 5,
   "metadata": {},
   "outputs": [
    {
     "name": "stdout",
     "output_type": "stream",
     "text": [
      "X_train:  (2, 12) \n",
      "\n",
      "y_train:  (1, 12) \n",
      "\n",
      "X_test:  (2, 8) \n",
      "\n",
      "y_test:  (1, 8)\n"
     ]
    }
   ],
   "source": [
    "X_train = X_train.T\n",
    "X_test = X_test.T\n",
    "y_train = y_train.reshape(1, X_train.shape[1])\n",
    "y_test = y_test.reshape(1, X_test.shape[1])\n",
    "\n",
    "print(\"X_train: \" ,X_train.shape, \"\\n\")\n",
    "print(\"y_train: \" ,y_train.shape, \"\\n\")\n",
    "print(\"X_test: \" ,X_test.shape, \"\\n\")\n",
    "print(\"y_test: \" ,y_test.shape)"
   ]
  },
  {
   "cell_type": "code",
   "execution_count": 6,
   "metadata": {},
   "outputs": [],
   "source": [
    "#The activation function\n",
    "def sigmoid(x):\n",
    "    return 1/(1 + np.exp(-x))"
   ]
  },
  {
   "cell_type": "code",
   "execution_count": 7,
   "metadata": {},
   "outputs": [],
   "source": [
    "def model(X, Y, learning_rate, epochs):\n",
    "    \n",
    "    m = X_train.shape[1] #the total number of training examples\n",
    "    n = X_train.shape[0] #the total number of features\n",
    "    \n",
    "    # initializing the parameters\n",
    "    weight = np.zeros((n,1))\n",
    "    bias = 0\n",
    "    \n",
    "    cost_list = []\n",
    "    \n",
    "    for i in range(epochs):\n",
    "         # calculate the parameters and wrap the sigmoid function over it.\n",
    "        Z = np.dot(weight.T, X) +bias\n",
    "        A = sigmoid(Z)\n",
    "        \n",
    "        # cost function\n",
    "        cost = -(1/m)*np.sum( Y*np.log(A) + (1-Y)*np.log(1-A))\n",
    "        \n",
    "        # Update weights and bias with Gradient Descent till cost is minimized\n",
    "        dw = (1/m)*np.dot(A-Y, X.T)\n",
    "        dB = (1/m)*np.sum(A - Y)\n",
    "        \n",
    "        weight = weight - learning_rate*dw.T\n",
    "        bias =bias - learning_rate*dB\n",
    "        \n",
    "        # Keeping track of our cost function value\n",
    "        cost_list.append(cost)\n",
    "        \n",
    "        if(i%(epochs/10) == 0):\n",
    "            print(\"cost after \", i, \"iteration is : \", cost)\n",
    "     #return updated weights and cost history   \n",
    "    return weight,bias, cost_list"
   ]
  },
  {
   "cell_type": "code",
   "execution_count": 8,
   "metadata": {},
   "outputs": [
    {
     "name": "stdout",
     "output_type": "stream",
     "text": [
      "cost after  0 iteration is :  0.6931471805599452\n",
      "cost after  10000 iteration is :  0.5434105964638803\n",
      "cost after  20000 iteration is :  0.5052934954650505\n",
      "cost after  30000 iteration is :  0.4899817400311043\n",
      "cost after  40000 iteration is :  0.48321348939897246\n",
      "cost after  50000 iteration is :  0.48001858639447714\n",
      "cost after  60000 iteration is :  0.4784415237503222\n",
      "cost after  70000 iteration is :  0.4776386702547404\n",
      "cost after  80000 iteration is :  0.47722101305731757\n",
      "cost after  90000 iteration is :  0.47700037262595074\n"
     ]
    }
   ],
   "source": [
    "iterations = 100000\n",
    "learning_rate = 0.0005\n",
    "weight, bias, cost_list = model(X_train, y_train, learning_rate = learning_rate, epochs = iterations)"
   ]
  },
  {
   "cell_type": "markdown",
   "metadata": {},
   "source": [
    "## Prediction"
   ]
  },
  {
   "cell_type": "code",
   "execution_count": 9,
   "metadata": {},
   "outputs": [],
   "source": [
    "def accuracy(X, Y, weight,bias):\n",
    "    \n",
    "    Z = np.dot(weight.T, X) + bias\n",
    "    A = sigmoid(Z)\n",
    "    \n",
    "    A = A > 0.5\n",
    "    \n",
    "    A = np.array(A, dtype = 'int64')\n",
    "    \n",
    "    acc = (1 - np.sum(np.absolute(A - Y))/Y.shape[1])*100\n",
    "    \n",
    "    print(\"Accuracy of the model is : \", round(acc, 2), \"%\")"
   ]
  },
  {
   "cell_type": "code",
   "execution_count": 10,
   "metadata": {},
   "outputs": [
    {
     "name": "stdout",
     "output_type": "stream",
     "text": [
      "Accuracy of the model is :  50.0 %\n"
     ]
    }
   ],
   "source": [
    "accuracy(X_test, y_test, weight, bias)"
   ]
  },
  {
   "cell_type": "markdown",
   "metadata": {},
   "source": [
    "# Report\n",
    "To find out whether or not a relationship between two variables exists, I plot the given data X and Y in a scatter diagram. In the diagram, the points show a curve line which is a regression curve. From this observation, it was evident that the best model for this data is logistic regression. The dataset is split into train and test set. The train set is used to train the model, and the test set is used to check the accuracy of the model. In the logistic function, I first initialised the parameters (weight and bias )with 0's, then train it in a way that makes accurate predictions. \n",
    "The predictions are made with the sigmoid function:\n",
    "\n",
    "$$ σ(W^T * X + b)$$\n",
    "\n",
    "\n",
    "*This function multiplies the parameters with the input and the applying then applied the sigmoid function.*\n",
    "\n",
    "Because sigmoid values are only 0 and 1, whenever the values of the prediction are bigger than 0.5, it's label as 1, otherwise 0. At the beginning of the cost function, there was a high error and to minimised I used gradient descent. The gradient descent updates the weight to a minimum value and the loss function decreases.\n",
    "I adjusted the learning rate a few times to improve the performance of the model. I started with a high learning rate and gradually lowered it until I got the best steep decrease in the loss function."
   ]
  },
  {
   "cell_type": "markdown",
   "metadata": {},
   "source": [
    "# 1. After how many iterations, and for which learning rate (α) did your algorithm converge? Plot the loss function with respect to iterations to illustrate this point."
   ]
  },
  {
   "cell_type": "code",
   "execution_count": 11,
   "metadata": {},
   "outputs": [
    {
     "data": {
      "text/plain": [
       "[<matplotlib.lines.Line2D at 0x11116bd90>]"
      ]
     },
     "execution_count": 11,
     "metadata": {},
     "output_type": "execute_result"
    },
    {
     "data": {
      "image/png": "[encoded data removed]",
      "text/plain": [
       "<Figure size 432x288 with 1 Axes>"
      ]
     },
     "metadata": {
      "needs_background": "light"
     },
     "output_type": "display_data"
    }
   ],
   "source": [
    "plt.plot(cost_list)"
   ]
  },
  {
   "cell_type": "markdown",
   "metadata": {},
   "source": [
    "# 2.What happens if α is too large? How does this affect the loss function? Plot the loss function with respect to iterations to illustrate this point."
   ]
  },
  {
   "cell_type": "code",
   "execution_count": 12,
   "metadata": {},
   "outputs": [
    {
     "name": "stdout",
     "output_type": "stream",
     "text": [
      "cost after  0 iteration is :  0.6931471805599452\n",
      "cost after  10000 iteration is :  0.6385009804307771\n",
      "cost after  20000 iteration is :  0.6385009804307771\n",
      "cost after  30000 iteration is :  0.6385009804307771\n",
      "cost after  40000 iteration is :  0.6385009804307771\n",
      "cost after  50000 iteration is :  0.6385009804307771\n",
      "cost after  60000 iteration is :  0.6385009804307771\n",
      "cost after  70000 iteration is :  0.6385009804307771\n",
      "cost after  80000 iteration is :  0.6385009804307771\n",
      "cost after  90000 iteration is :  0.6385009804307771\n"
     ]
    },
    {
     "data": {
      "text/plain": [
       "[<matplotlib.lines.Line2D at 0x11143fe90>]"
      ]
     },
     "execution_count": 12,
     "metadata": {},
     "output_type": "execute_result"
    },
    {
     "data": {
      "image/png": "[encoded data removed]",
      "text/plain": [
       "<Figure size 1280x320 with 1 Axes>"
      ]
     },
     "metadata": {},
     "output_type": "display_data"
    }
   ],
   "source": [
    "from matplotlib.pyplot import figure\n",
    "figure(num=None, figsize=(16, 4), dpi=80, facecolor='w', edgecolor='k')\n",
    "# Number of iterations\n",
    "num_its = 300\n",
    "\n",
    "# Trying out different learning rates and plotting\n",
    "\n",
    "\n",
    "iterations = 100000\n",
    "learning_rate = 1.5\n",
    "weight, bias, cost_list = model(X_train, y_train, learning_rate = learning_rate, epochs = iterations)\n",
    "plt.plot(cost_list)\n"
   ]
  },
  {
   "cell_type": "markdown",
   "metadata": {},
   "source": [
    "Setting up the learning rate higher causes drastic updates which lead to divergent behaviours. The weight changes are so big that the optimizer overshoots the minimum and make the loss worse.\n",
    "\n",
    "\n"
   ]
  },
  {
   "cell_type": "markdown",
   "metadata": {},
   "source": [
    "# 3.Assume that you are applying logistic regression to the iris (flower) dataset, as in the previous assignment. Answer the following questions:\n",
    "\n",
    "**(a) How would your hypothesis function change in this case and why?**\n",
    "\n",
    "The only thing that would change is the n (number of features) as the iris dataset contains 3 classes and each of those classes refers to a type of iris plant.\n",
    "\n",
    " \n",
    "**(b) How would you utilize your implementation of logistic regression in order to perform (multi-class) classification on the iris dataset? Include some pseudocode while discussing your approach.**\n",
    "\n",
    "\n",
    "The above model is for binary classification and it can be extended to multi-class classification. The strategy I would use is one vs all classification, where we would divide the data sets such that a hypothesis separates one class label from all the rest.\n"
   ]
  },
  {
   "cell_type": "code",
   "execution_count": null,
   "metadata": {},
   "outputs": [],
   "source": []
  }
 ],
 "metadata": {
  "kernelspec": {
   "display_name": "Python 3",
   "language": "python",
   "name": "python3"
  },
  "language_info": {
   "codemirror_mode": {
    "name": "ipython",
    "version": 3
   },
   "file_extension": ".py",
   "mimetype": "text/x-python",
   "name": "python",
   "nbconvert_exporter": "python",
   "pygments_lexer": "ipython3",
   "version": "3.7.4"
  }
 },
 "nbformat": 4,
 "nbformat_minor": 2
}

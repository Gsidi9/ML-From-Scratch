{
 "cells": [
  {
   "cell_type": "markdown",
   "metadata": {},
   "source": [
    "# Machine Learning Comparison"
   ]
  },
  {
   "attachments": {},
   "cell_type": "markdown",
   "metadata": {},
   "source": [
    "\n",
    "## Objective \n",
    "\n",
    "In this project we will train several algorithm at once and use metric to compare the serults and select the best model. The selected model will be used on the test dataset. The chosen algorithms are : Random Forest, \n",
    "Decision Trees,Bagging,Boosting and SVM. \n",
    "\n",
    "\n",
    "The **Datasets** is based on a real credit risk data, and is to predict not-credible and credible credit card clients. Variable Y which represents a credit card default payment (Yes = 1, No = 0), using the 23 predictor variables. Two datasets are provided : the training dataset in the creditdefault_train.csv file, and a test dataset in the creditdefult_test.csv file. Each dataset contains 15000 rows and  23 columns.\n",
    "\n",
    "## Algorithms\n",
    "\n",
    "***KNN*** - It finds sample data that is closest in distance to the target object.**Advantages** are :Zero cost in the learning process,Classifying any data whenever finding similarity measures of any given instances,Intuitive approach,Robust outliers on the prediction.**Disadvantages** are: Expensive computation for a large dataset, Hard to interpret the result, Very difficult on handling data mixed types, Choosing the wrong distance measure can produce inaccurate results.\n",
    "\n",
    "\n",
    "\n",
    "***Random Forest*** - With random forest, you can split the data, give it to multiple decision trees, combine multiple trees to a forest and use a majority vote to find the best possible decision. Random forest is a type of ensemble which is a combination of gathering decisions(outcomes) from different algorithms. A large number of decision trees are created to form a random forecast. Each decision tree forecasts a value and the average of the forecasted values are chosen.**Advantages** are: High accuracy,Good starting point to solve a problem,Flexible and can fit a variety of different data well,Fast to execute ,Useful for regression and classification problems.**Disadvantages** are: Slow at training overfitting,Not suitable for small samples,Small change in training data changes model,Occasionally too simple for very complex problems.\n",
    "\n",
    "\n",
    "***Decision Trees*** - A graph that uses a branching method to match all possible outcomes of a decision.**Advantages** are: Computational complexity is not high,Output is easy to understand and to interpret,Can handle numerical and categorical data.**Disadvantages** are :Can be unstable because small variations in the data might lead to different results, May generate biased tree if some classes are dominant.\n",
    "\n",
    "\n",
    "***Bagging*** - bagging stands for bootstrap aggregation. Bagging is a techinque for learning many classifiers by only using a portion of the data and then combining them through a model averaging techinique. The idead behind this is to reduce overffting of of a class model.**Advantages** are: Reduces variances which help to avoid overfitting problems.**Disadvantages** are: Loss of interpretability, computational complexity, Requires careful turning of different hyper-parameters.\n",
    "\n",
    "\n",
    "***Gradiant Boosting*** - boosting is an esemble technique in which learners are learned sequentialy. Early learners fitting simple models to the data and then analyse the data fro errors. Those erroes identifies problems or a particular instances of the data that are difficult or hard to fit examples.**Advantages** are: Hig performance, Can solve almost all the objective function that we can write gradient out, Has an excellent predictive accuracy.**Disadvantages** are : Sensitivity to overfitting if the data is noisy, Training takes longer since trees are built sequentially.\n",
    "\n",
    "\n",
    "\n",
    "***SVM*** - Maps the inputs space to a high dimensional space that is proportional to the training sample size. Makes predictions by continuous interpolation.**Advantages** are: Suitable when the sample size is smaller than the number of dimensions.**Disadvantages** are: Not usually employed for continuous numerical variables, mostly for categorical variables, Complex calculation when there are many class labels, sensitive to outliers.\n",
    "\n",
    "\n",
    "## Metrics\n",
    "\n",
    "\n",
    "**Accuracy** : The overall effectiveness of the classifier.\n",
    "\n",
    "Accuracy = $\\frac{True positives + True Negatives}{Total Observation}$\n",
    "\n",
    "**Recall** : Effectiveness of a classifier to identify class labels if calculated from sums of per-text decisions.\n",
    "\n",
    "Recall = $\\frac{True positives}{True positives + False Negatives}$\n",
    "\n",
    "\n",
    "**Precision** : Agreement of the data class labels with those of the classifier if calculated from sums of per text decisions.\n",
    "\n",
    "Precision = $\\frac{True positives }{True positives + False positives}$\n",
    "\n",
    "\n",
    "**F1 score** : Relations between data's positive labels and those given by classifier based on sums of per-text decisions.\n",
    "\n",
    "Fscore = $\\frac{2 * precision * recall}{recision + recall}$\n",
    "\n",
    "* **resource :** [https://www.researchgate.net/figure/Classification-performance-metrics-based-on-the-confusion-matrix_tbl4_325567208]\n",
    "\n"
   ]
  },
  {
   "cell_type": "markdown",
   "metadata": {},
   "source": [
    "## Table of Contents\n",
    "   * [1. Load the library and data](#chapter1)\n",
    "   * [2. Performance Algorithm Comparison](#chapter1)\n",
    "   * [3. Test Set Prediction ](#chapter1)\n",
    "   *  [Evaluation](#chapter1)\n",
    "\n",
    "\n"
   ]
  },
  {
   "cell_type": "markdown",
   "metadata": {},
   "source": [
    "# 1. Load the library and data"
   ]
  },
  {
   "cell_type": "markdown",
   "metadata": {},
   "source": [
    "In this section the library and the data used are loaded into the sytem"
   ]
  },
  {
   "cell_type": "code",
   "execution_count": 1,
   "metadata": {},
   "outputs": [],
   "source": [
    "import warnings\n",
    "warnings.filterwarnings(\"ignore\", category=FutureWarning)"
   ]
  },
  {
   "cell_type": "markdown",
   "metadata": {},
   "source": [
    "### 1.1 Load the library"
   ]
  },
  {
   "cell_type": "code",
   "execution_count": 2,
   "metadata": {},
   "outputs": [],
   "source": [
    "import pandas as pd\n",
    "import numpy as np\n",
    "import seaborn as sns\n",
    "import matplotlib.pyplot as plt\n",
    "%matplotlib inline\n",
    "\n",
    "from sklearn.metrics import classification_report\n",
    "from sklearn.metrics import confusion_matrix\n",
    "from sklearn.metrics import accuracy_score\n",
    "from sklearn.tree import DecisionTreeClassifier\n",
    "from sklearn.ensemble import BaggingClassifier\n",
    "from sklearn.ensemble import RandomForestClassifier\n",
    "from sklearn.neighbors import KNeighborsClassifier\n",
    "from sklearn.ensemble import GradientBoostingClassifier\n",
    "from sklearn.svm import SVC\n",
    "from sklearn.model_selection import cross_val_score\n",
    "from sklearn.model_selection import KFold"
   ]
  },
  {
   "cell_type": "markdown",
   "metadata": {},
   "source": [
    "### 1.2 Load the data"
   ]
  },
  {
   "cell_type": "code",
   "execution_count": 3,
   "metadata": {},
   "outputs": [],
   "source": [
    "train = pd.read_csv(\"/Users/goundosidibe/Downloads/creditdefault_train.csv\")\n",
    "test= pd.read_csv(\"/Users/goundosidibe/Downloads/creditdefault_test.csv\")"
   ]
  },
  {
   "cell_type": "code",
   "execution_count": 4,
   "metadata": {},
   "outputs": [],
   "source": [
    "#separate target values\n",
    "y_train = train['Y'].values\n",
    "y_test = test['Y'].values\n",
    "\n",
    "#create a dataframe with all training data except the target column\n",
    "X_train = train.drop(columns=['Y'])\n",
    "X_test = test.drop(columns=['Y'])"
   ]
  },
  {
   "cell_type": "code",
   "execution_count": 5,
   "metadata": {},
   "outputs": [
    {
     "data": {
      "text/html": [
       "<div>\n",
       "<style scoped>\n",
       "    .dataframe tbody tr th:only-of-type {\n",
       "        vertical-align: middle;\n",
       "    }\n",
       "\n",
       "    .dataframe tbody tr th {\n",
       "        vertical-align: top;\n",
       "    }\n",
       "\n",
       "    .dataframe thead th {\n",
       "        text-align: right;\n",
       "    }\n",
       "</style>\n",
       "<table border=\"1\" class=\"dataframe\">\n",
       "  <thead>\n",
       "    <tr style=\"text-align: right;\">\n",
       "      <th></th>\n",
       "      <th>X1</th>\n",
       "      <th>X2</th>\n",
       "      <th>X3</th>\n",
       "      <th>X4</th>\n",
       "      <th>X5</th>\n",
       "      <th>X6</th>\n",
       "      <th>X7</th>\n",
       "      <th>X8</th>\n",
       "      <th>X9</th>\n",
       "      <th>X10</th>\n",
       "      <th>...</th>\n",
       "      <th>X14</th>\n",
       "      <th>X15</th>\n",
       "      <th>X16</th>\n",
       "      <th>X17</th>\n",
       "      <th>X18</th>\n",
       "      <th>X19</th>\n",
       "      <th>X20</th>\n",
       "      <th>X21</th>\n",
       "      <th>X22</th>\n",
       "      <th>X23</th>\n",
       "    </tr>\n",
       "  </thead>\n",
       "  <tbody>\n",
       "    <tr>\n",
       "      <td>0</td>\n",
       "      <td>20000</td>\n",
       "      <td>2</td>\n",
       "      <td>2</td>\n",
       "      <td>1</td>\n",
       "      <td>24</td>\n",
       "      <td>2</td>\n",
       "      <td>2</td>\n",
       "      <td>-1</td>\n",
       "      <td>-1</td>\n",
       "      <td>-2</td>\n",
       "      <td>...</td>\n",
       "      <td>689</td>\n",
       "      <td>0</td>\n",
       "      <td>0</td>\n",
       "      <td>0</td>\n",
       "      <td>0</td>\n",
       "      <td>689</td>\n",
       "      <td>0</td>\n",
       "      <td>0</td>\n",
       "      <td>0</td>\n",
       "      <td>0</td>\n",
       "    </tr>\n",
       "    <tr>\n",
       "      <td>1</td>\n",
       "      <td>50000</td>\n",
       "      <td>2</td>\n",
       "      <td>2</td>\n",
       "      <td>1</td>\n",
       "      <td>37</td>\n",
       "      <td>0</td>\n",
       "      <td>0</td>\n",
       "      <td>0</td>\n",
       "      <td>0</td>\n",
       "      <td>0</td>\n",
       "      <td>...</td>\n",
       "      <td>49291</td>\n",
       "      <td>28314</td>\n",
       "      <td>28959</td>\n",
       "      <td>29547</td>\n",
       "      <td>2000</td>\n",
       "      <td>2019</td>\n",
       "      <td>1200</td>\n",
       "      <td>1100</td>\n",
       "      <td>1069</td>\n",
       "      <td>1000</td>\n",
       "    </tr>\n",
       "    <tr>\n",
       "      <td>2</td>\n",
       "      <td>50000</td>\n",
       "      <td>1</td>\n",
       "      <td>2</td>\n",
       "      <td>1</td>\n",
       "      <td>57</td>\n",
       "      <td>-1</td>\n",
       "      <td>0</td>\n",
       "      <td>-1</td>\n",
       "      <td>0</td>\n",
       "      <td>0</td>\n",
       "      <td>...</td>\n",
       "      <td>35835</td>\n",
       "      <td>20940</td>\n",
       "      <td>19146</td>\n",
       "      <td>19131</td>\n",
       "      <td>2000</td>\n",
       "      <td>36681</td>\n",
       "      <td>10000</td>\n",
       "      <td>9000</td>\n",
       "      <td>689</td>\n",
       "      <td>679</td>\n",
       "    </tr>\n",
       "  </tbody>\n",
       "</table>\n",
       "<p>3 rows × 23 columns</p>\n",
       "</div>"
      ],
      "text/plain": [
       "      X1  X2  X3  X4  X5  X6  X7  X8  X9  X10  ...    X14    X15    X16  \\\n",
       "0  20000   2   2   1  24   2   2  -1  -1   -2  ...    689      0      0   \n",
       "1  50000   2   2   1  37   0   0   0   0    0  ...  49291  28314  28959   \n",
       "2  50000   1   2   1  57  -1   0  -1   0    0  ...  35835  20940  19146   \n",
       "\n",
       "     X17   X18    X19    X20   X21   X22   X23  \n",
       "0      0     0    689      0     0     0     0  \n",
       "1  29547  2000   2019   1200  1100  1069  1000  \n",
       "2  19131  2000  36681  10000  9000   689   679  \n",
       "\n",
       "[3 rows x 23 columns]"
      ]
     },
     "execution_count": 5,
     "metadata": {},
     "output_type": "execute_result"
    }
   ],
   "source": [
    "X_train.head(3)"
   ]
  },
  {
   "cell_type": "code",
   "execution_count": 6,
   "metadata": {},
   "outputs": [
    {
     "data": {
      "text/plain": [
       "((15000, 23), (15000,))"
      ]
     },
     "execution_count": 6,
     "metadata": {},
     "output_type": "execute_result"
    }
   ],
   "source": [
    "#examine the data\n",
    "X_train.shape, y_train.shape"
   ]
  },
  {
   "cell_type": "code",
   "execution_count": 7,
   "metadata": {},
   "outputs": [
    {
     "data": {
      "text/plain": [
       "((15000, 23), (15000,))"
      ]
     },
     "execution_count": 7,
     "metadata": {},
     "output_type": "execute_result"
    }
   ],
   "source": [
    "X_test.shape, y_test.shape"
   ]
  },
  {
   "cell_type": "markdown",
   "metadata": {},
   "source": [
    "# 2. Performance Algorithm Comparison"
   ]
  },
  {
   "cell_type": "markdown",
   "metadata": {},
   "source": [
    "### 2.1 List of Machine Learning Algorithm (MLA) "
   ]
  },
  {
   "cell_type": "code",
   "execution_count": 8,
   "metadata": {},
   "outputs": [],
   "source": [
    "#appened the following classifications to an empty list (models).\n",
    "\n",
    "models = []\n",
    "\n",
    "models.append(('knn', KNeighborsClassifier()))\n",
    "models.append(('tree', DecisionTreeClassifier()))\n",
    "models.append(('bagging', BaggingClassifier()))\n",
    "models.append(('forest', RandomForestClassifier()))\n",
    "models.append(('boosting', GradientBoostingClassifier()))\n",
    "models.append(('SVM', SVC()))"
   ]
  },
  {
   "cell_type": "markdown",
   "metadata": {},
   "source": [
    "### 2.2 Train the data into the model and calculate the performance"
   ]
  },
  {
   "cell_type": "code",
   "execution_count": 9,
   "metadata": {},
   "outputs": [
    {
     "name": "stdout",
     "output_type": "stream",
     "text": [
      "knn: 0.75 (0.017651)\n",
      "tree: 0.72 (0.015457)\n",
      "bagging: 0.81 (0.013388)\n",
      "forest: 0.81 (0.012212)\n",
      "boosting: 0.82 (0.012336)\n",
      "SVM: 0.78 (0.018893)\n"
     ]
    },
    {
     "data": {
      "text/plain": [
       "'\\nThis code imports all the algorithms (knn,tree,bagging,forest,boosting,SVM), and train the model using 10 fold \\ncross validation.We have created an empty list named \\'models\\' and then appended to the algorithm list.\\nKfold classification is used in this model. The data is split into 10 folds. The first fold of the \\niteration is used to test the model, and the rest are used to train the model. \"Cross_val_score\" \\nmeans the accuracy score of the cross validation(kfolds).\\n\\n'"
      ]
     },
     "execution_count": 9,
     "metadata": {},
     "output_type": "execute_result"
    }
   ],
   "source": [
    "# import all the algorithms, then train model using 10-folds- cross validation.\n",
    "results = []\n",
    "names = []\n",
    "crossV_results = []\n",
    "for name, model in models:\n",
    "    # the data set is split into 10 folds\n",
    "    kfold = KFold(n_splits=10, random_state=7)\n",
    "    #finds the accuracy of all 10 folds\n",
    "    crossV_results = cross_val_score(model, X_train, y_train, cv=kfold, scoring='accuracy')\n",
    "    results.append(crossV_results)\n",
    "    names.append(name)\n",
    "    #calculates the mean and standard deviation.\n",
    "    final = \"%s: %.2f (%f)\" % (name, crossV_results.mean(), crossV_results.std())\n",
    "    print(final)\n",
    "\n",
    "    '''\n",
    "    This code imports all the algorithms (knn,tree,bagging,forest,boosting,SVM), and train the model using 10 fold \n",
    "    cross validation.We have created an empty list named 'models' and then appended to the algorithm list.\n",
    "    Kfold classification is used in this model. The data is split into 10 folds. The first fold of the \n",
    "    iteration is used to test the model, and the rest are used to train the model. \"Cross_val_score\" \n",
    "    means the accuracy score of the cross validation(kfolds).\n",
    "\n",
    "    '''"
   ]
  },
  {
   "cell_type": "markdown",
   "metadata": {},
   "source": [
    "### 2.3 Compare algorithms"
   ]
  },
  {
   "cell_type": "code",
   "execution_count": 10,
   "metadata": {},
   "outputs": [
    {
     "data": {
      "image/png": "[encoded data removed]",
      "text/plain": [
       "<Figure size 720x504 with 1 Axes>"
      ]
     },
     "metadata": {
      "needs_background": "light"
     },
     "output_type": "display_data"
    }
   ],
   "source": [
    "#plot an algorithm comparison box plot to compare the accuracy of both algorithms\n",
    "\n",
    "fig = plt.figure(figsize =(10, 7))\n",
    "plt.suptitle('Algorithm Comparison')\n",
    "ax = fig.add_subplot(111)\n",
    "ax.boxplot(results)\n",
    "ax.set_xticklabels(names)\n",
    "plt.show()"
   ]
  },
  {
   "cell_type": "markdown",
   "metadata": {},
   "source": [
    "### 2.2 Cross Validation Accuracy"
   ]
  },
  {
   "cell_type": "code",
   "execution_count": 12,
   "metadata": {},
   "outputs": [],
   "source": [
    "Kfods_results = pd.DataFrame(results)\n",
    "\n",
    "Kfods_results.columns = ['kfold1','kfold2','kfold3','kfold4','kfold5',\n",
    "                         'kfold6','kfold7','kfold8','kfold9','kfold10']\n",
    "\n",
    "# Change the row indexes \n",
    "Kfods_results.index= ['KNeighborsClassifier', 'DecisionTreeClassifier', 'BaggingClassifier', \n",
    "                'RandomForestClassifier','GradientBoostingClassifier','SVM'] \n",
    "\n",
    "df_t = Kfods_results.T"
   ]
  },
  {
   "cell_type": "code",
   "execution_count": 13,
   "metadata": {},
   "outputs": [
    {
     "data": {
      "text/html": [
       "<div>\n",
       "<style scoped>\n",
       "    .dataframe tbody tr th:only-of-type {\n",
       "        vertical-align: middle;\n",
       "    }\n",
       "\n",
       "    .dataframe tbody tr th {\n",
       "        vertical-align: top;\n",
       "    }\n",
       "\n",
       "    .dataframe thead th {\n",
       "        text-align: right;\n",
       "    }\n",
       "</style>\n",
       "<table border=\"1\" class=\"dataframe\">\n",
       "  <thead>\n",
       "    <tr style=\"text-align: right;\">\n",
       "      <th></th>\n",
       "      <th>KNeighborsClassifier</th>\n",
       "      <th>DecisionTreeClassifier</th>\n",
       "      <th>BaggingClassifier</th>\n",
       "      <th>RandomForestClassifier</th>\n",
       "      <th>GradientBoostingClassifier</th>\n",
       "      <th>SVM</th>\n",
       "    </tr>\n",
       "  </thead>\n",
       "  <tbody>\n",
       "    <tr>\n",
       "      <td>kfold1</td>\n",
       "      <td>0.735333</td>\n",
       "      <td>0.706000</td>\n",
       "      <td>0.788000</td>\n",
       "      <td>0.790000</td>\n",
       "      <td>0.806000</td>\n",
       "      <td>0.773333</td>\n",
       "    </tr>\n",
       "    <tr>\n",
       "      <td>kfold2</td>\n",
       "      <td>0.754667</td>\n",
       "      <td>0.703333</td>\n",
       "      <td>0.800667</td>\n",
       "      <td>0.800667</td>\n",
       "      <td>0.820000</td>\n",
       "      <td>0.787333</td>\n",
       "    </tr>\n",
       "    <tr>\n",
       "      <td>kfold3</td>\n",
       "      <td>0.738000</td>\n",
       "      <td>0.712667</td>\n",
       "      <td>0.789333</td>\n",
       "      <td>0.802000</td>\n",
       "      <td>0.817333</td>\n",
       "      <td>0.765333</td>\n",
       "    </tr>\n",
       "    <tr>\n",
       "      <td>kfold4</td>\n",
       "      <td>0.750667</td>\n",
       "      <td>0.738000</td>\n",
       "      <td>0.808000</td>\n",
       "      <td>0.798667</td>\n",
       "      <td>0.816000</td>\n",
       "      <td>0.784000</td>\n",
       "    </tr>\n",
       "    <tr>\n",
       "      <td>kfold5</td>\n",
       "      <td>0.755333</td>\n",
       "      <td>0.715333</td>\n",
       "      <td>0.797333</td>\n",
       "      <td>0.797333</td>\n",
       "      <td>0.815333</td>\n",
       "      <td>0.777333</td>\n",
       "    </tr>\n",
       "    <tr>\n",
       "      <td>kfold6</td>\n",
       "      <td>0.708667</td>\n",
       "      <td>0.707333</td>\n",
       "      <td>0.794667</td>\n",
       "      <td>0.794667</td>\n",
       "      <td>0.808000</td>\n",
       "      <td>0.731333</td>\n",
       "    </tr>\n",
       "    <tr>\n",
       "      <td>kfold7</td>\n",
       "      <td>0.770667</td>\n",
       "      <td>0.724667</td>\n",
       "      <td>0.823333</td>\n",
       "      <td>0.818000</td>\n",
       "      <td>0.837333</td>\n",
       "      <td>0.785333</td>\n",
       "    </tr>\n",
       "    <tr>\n",
       "      <td>kfold8</td>\n",
       "      <td>0.763333</td>\n",
       "      <td>0.756000</td>\n",
       "      <td>0.822000</td>\n",
       "      <td>0.831333</td>\n",
       "      <td>0.846000</td>\n",
       "      <td>0.804000</td>\n",
       "    </tr>\n",
       "    <tr>\n",
       "      <td>kfold9</td>\n",
       "      <td>0.768667</td>\n",
       "      <td>0.726667</td>\n",
       "      <td>0.826000</td>\n",
       "      <td>0.818000</td>\n",
       "      <td>0.833333</td>\n",
       "      <td>0.796667</td>\n",
       "    </tr>\n",
       "    <tr>\n",
       "      <td>kfold10</td>\n",
       "      <td>0.756667</td>\n",
       "      <td>0.723333</td>\n",
       "      <td>0.804667</td>\n",
       "      <td>0.808000</td>\n",
       "      <td>0.827333</td>\n",
       "      <td>0.781333</td>\n",
       "    </tr>\n",
       "  </tbody>\n",
       "</table>\n",
       "</div>"
      ],
      "text/plain": [
       "         KNeighborsClassifier  DecisionTreeClassifier  BaggingClassifier  \\\n",
       "kfold1               0.735333                0.706000           0.788000   \n",
       "kfold2               0.754667                0.703333           0.800667   \n",
       "kfold3               0.738000                0.712667           0.789333   \n",
       "kfold4               0.750667                0.738000           0.808000   \n",
       "kfold5               0.755333                0.715333           0.797333   \n",
       "kfold6               0.708667                0.707333           0.794667   \n",
       "kfold7               0.770667                0.724667           0.823333   \n",
       "kfold8               0.763333                0.756000           0.822000   \n",
       "kfold9               0.768667                0.726667           0.826000   \n",
       "kfold10              0.756667                0.723333           0.804667   \n",
       "\n",
       "         RandomForestClassifier  GradientBoostingClassifier       SVM  \n",
       "kfold1                 0.790000                    0.806000  0.773333  \n",
       "kfold2                 0.800667                    0.820000  0.787333  \n",
       "kfold3                 0.802000                    0.817333  0.765333  \n",
       "kfold4                 0.798667                    0.816000  0.784000  \n",
       "kfold5                 0.797333                    0.815333  0.777333  \n",
       "kfold6                 0.794667                    0.808000  0.731333  \n",
       "kfold7                 0.818000                    0.837333  0.785333  \n",
       "kfold8                 0.831333                    0.846000  0.804000  \n",
       "kfold9                 0.818000                    0.833333  0.796667  \n",
       "kfold10                0.808000                    0.827333  0.781333  "
      ]
     },
     "execution_count": 13,
     "metadata": {},
     "output_type": "execute_result"
    }
   ],
   "source": [
    "\n",
    "df_t"
   ]
  },
  {
   "cell_type": "code",
   "execution_count": 14,
   "metadata": {},
   "outputs": [
    {
     "data": {
      "image/png": "[encoded data removed]",
      "text/plain": [
       "<Figure size 720x360 with 1 Axes>"
      ]
     },
     "metadata": {
      "needs_background": "light"
     },
     "output_type": "display_data"
    }
   ],
   "source": [
    "#visualize the result of all 10 folds graphically and look at the mean of all the scores.\n",
    "plt.figure(figsize=(10, 5))\n",
    "plt.plot(df_t)\n",
    "plt.xlabel(\"cross validation\")\n",
    "plt.legend(df_t)\n",
    "plt.show()"
   ]
  },
  {
   "cell_type": "markdown",
   "metadata": {},
   "source": [
    "# 3. Test Set Prediction "
   ]
  },
  {
   "cell_type": "markdown",
   "metadata": {},
   "source": [
    "### 3.1 Compare our predictions to the ground truth"
   ]
  },
  {
   "cell_type": "code",
   "execution_count": 15,
   "metadata": {
    "scrolled": false
   },
   "outputs": [
    {
     "name": "stdout",
     "output_type": "stream",
     "text": [
      "predicted values: [0 0 0 ... 0 1 0] \n",
      "\n",
      "target values: [0 0 0 ... 0 1 0] \n",
      "\n",
      "accuracy : 0.8192 \n",
      "\n",
      "              precision    recall  f1-score   support\n",
      "\n",
      "           0       0.84      0.95      0.89     11682\n",
      "           1       0.67      0.36      0.47      3318\n",
      "\n",
      "    accuracy                           0.82     15000\n",
      "   macro avg       0.76      0.65      0.68     15000\n",
      "weighted avg       0.80      0.82      0.80     15000\n",
      " \n",
      "\n"
     ]
    }
   ],
   "source": [
    "#make predictions on the test set.\n",
    "\n",
    "cls = GradientBoostingClassifier()\n",
    "cls.fit(X_train,y_train)\n",
    "y_pred = cls.predict(X_test)\n",
    "#compare our predictions to the ground truth\n",
    "print(\"predicted values:\", y_pred,\"\\n\")\n",
    "print(\"target values:\", y_pred,\"\\n\")\n",
    "# show the accuracy\n",
    "print('accuracy :',accuracy_score(y_test,y_pred),\"\\n\")\n",
    "#classification report \n",
    "print(classification_report(y_test,y_pred),\"\\n\")"
   ]
  },
  {
   "cell_type": "markdown",
   "metadata": {},
   "source": [
    "### 3.2 Confusion Matrix"
   ]
  },
  {
   "cell_type": "code",
   "execution_count": 16,
   "metadata": {},
   "outputs": [
    {
     "data": {
      "text/plain": [
       "'\\nAs we can see for our 15,000 instances in testing data, we got only (583) wrong predictions, \\nrest are correctly predicted.\\n\\n582 data points were incorrectly predicted by the GradientBoostingClassifier model (FP).\\n11100 data points were correctly predicted by the model (TP).\\n\\n2129 data points were incorrectly predicted as 1 (FN).\\n1189 data points were correctly predicted as 1 (TN).\\n\\n'"
      ]
     },
     "execution_count": 16,
     "metadata": {},
     "output_type": "execute_result"
    },
    {
     "data": {
      "image/png": "[encoded data removed]",
      "text/plain": [
       "<Figure size 432x288 with 2 Axes>"
      ]
     },
     "metadata": {
      "needs_background": "light"
     },
     "output_type": "display_data"
    }
   ],
   "source": [
    "# confusion matrix to evaluate the accuracy of GradientBoostingClassifier prediction\n",
    "matrix = confusion_matrix(y_test,y_pred)\n",
    "p = sns.heatmap(pd.DataFrame(matrix), annot=True, cmap=\"YlGnBu\", fmt='g')\n",
    "plt.title('Confusion Matrix', y=1.1)\n",
    "plt.ylabel('Actual label')\n",
    "plt.xlabel('Predicted label')\n",
    "\n",
    "'''\n",
    "\n",
    "583 data points were incorrectly predicted by the GradientBoostingClassifier model (FP).\n",
    "11099 data points were correctly predicted by the model (TP).\n",
    "\n",
    "2129 data points were incorrectly predicted as 1 (FN).\n",
    "1189 data points were correctly predicted as 1 (TN).\n",
    "\n",
    "'''"
   ]
  },
  {
   "cell_type": "markdown",
   "metadata": {},
   "source": [
    "# Evaluation"
   ]
  },
  {
   "cell_type": "markdown",
   "metadata": {},
   "source": [
    "\n",
    "### *Model*\n",
    "\n",
    " This project explores 5 basic machine learning algorithms. To approve and assess the execution of the classifiers, a 10-cross validation strategy is utilized.  The accuracy of each fold is computed,  and the model with high fold accuracy was selected to predict the test set. All accuracy of the dataset is presented in section 3.3. It is observed that GradientBoostingClassifier got the highest accuracy of ( 82%) in the training dataset. This is followed by BaggingClassifier() with 80% accuracy. DecisionTreeClassifier had a loss accuracy of 72% compared to the other algorithms. \n",
    "Although GradientBoostingClassifier got the highest accuracy, the other algorithms accuracy was high as well, and the accuracy differences between each model were minor. \n",
    "The selected model is GradientBoostingClassifier as it outperformed the other considered algorithms.\n",
    "\n",
    "**Test set**\n",
    "\n",
    "The GradientBoosting Classifier was used to predict the test set. We got results with an accuracy of  81%. The Classification_score   was used to measure the quality of GradientBoosting prediction. The precision, recall and f1-score in label 0 are very high, meaning that the model is good at predicting label 0, however is poor at classifying labels 1 as its measurement in recall ,and f1-score is very low. For confusion matric we got the following results :\n",
    "* False Positive (FP) :583\n",
    "* True Positive (TP): 11099\n",
    "* False Negative (FN): 2129\n",
    "* True Negative (TN): 1180\n",
    "\n",
    "\n",
    "\n",
    "\n"
   ]
  },
  {
   "cell_type": "code",
   "execution_count": null,
   "metadata": {},
   "outputs": [],
   "source": []
  }
 ],
 "metadata": {
  "kernelspec": {
   "display_name": "Python 3",
   "language": "python",
   "name": "python3"
  },
  "language_info": {
   "codemirror_mode": {
    "name": "ipython",
    "version": 3
   },
   "file_extension": ".py",
   "mimetype": "text/x-python",
   "name": "python",
   "nbconvert_exporter": "python",
   "pygments_lexer": "ipython3",
   "version": "3.7.4"
  }
 },
 "nbformat": 4,
 "nbformat_minor": 2
}

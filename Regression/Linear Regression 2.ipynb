{
 "cells": [
  {
   "cell_type": "markdown",
   "metadata": {},
   "source": [
    "# Linear Regression"
   ]
  },
  {
   "cell_type": "markdown",
   "metadata": {},
   "source": [
    "Simple model which will predict the price of the house\n",
    "based on the square foot area."
   ]
  },
  {
   "cell_type": "markdown",
   "metadata": {},
   "source": [
    "# Library & Data"
   ]
  },
  {
   "cell_type": "code",
   "execution_count": 1,
   "metadata": {},
   "outputs": [],
   "source": [
    "import numpy as np\n",
    "import matplotlib.pyplot as plt"
   ]
  },
  {
   "cell_type": "code",
   "execution_count": 2,
   "metadata": {},
   "outputs": [],
   "source": [
    "# I have made a dataset which is not real.\n",
    "data = np.loadtxt(\"/Users/goundosidibe/Downloads/data.txt\", delimiter = \",\")"
   ]
  },
  {
   "cell_type": "code",
   "execution_count": 4,
   "metadata": {},
   "outputs": [],
   "source": [
    "# reshaping the data \n",
    "X = data[:, 0]\n",
    "Y = data[:, 1].reshape(X.size, 1)\n",
    "X = np.vstack((np.ones((X.size, )), X)).T"
   ]
  },
  {
   "cell_type": "code",
   "execution_count": 5,
   "metadata": {},
   "outputs": [
    {
     "name": "stdout",
     "output_type": "stream",
     "text": [
      "(45, 2)\n",
      "(45, 1)\n"
     ]
    }
   ],
   "source": [
    "# let's see how our shape of the x looks like and how our shape of the y looks like.\n",
    "print(X.shape)\n",
    "print(Y.shape)"
   ]
  },
  {
   "cell_type": "markdown",
   "metadata": {},
   "source": [
    "# Correlation"
   ]
  },
  {
   "cell_type": "code",
   "execution_count": 6,
   "metadata": {},
   "outputs": [
    {
     "data": {
      "image/png": "[encoded data removed]",
      "text/plain": [
       "<Figure size 432x288 with 1 Axes>"
      ]
     },
     "metadata": {
      "needs_background": "light"
     },
     "output_type": "display_data"
    }
   ],
   "source": [
    "plt.scatter(X[:, 1], Y)\n",
    "plt.show()"
   ]
  },
  {
   "cell_type": "markdown",
   "metadata": {},
   "source": [
    "# Model"
   ]
  },
  {
   "cell_type": "code",
   "execution_count": 7,
   "metadata": {},
   "outputs": [],
   "source": [
    "def model(X, Y, learning_rate, iteration):\n",
    "    m = Y.size\n",
    "    theta = np.zeros((2, 1))\n",
    "    cost_list = []\n",
    "    for i in range(iteration):\n",
    "        y_pred = np.dot(X, theta)\n",
    "        cost = (1/(2*m))*np.sum(np.square(y_pred - Y))\n",
    "        d_theta = (1/m)*np.dot(X.T, y_pred - Y)\n",
    "        theta = theta - learning_rate*d_theta\n",
    "        cost_list.append(cost)\n",
    "    return theta, cost_list"
   ]
  },
  {
   "cell_type": "code",
   "execution_count": 8,
   "metadata": {},
   "outputs": [],
   "source": [
    "iteration = 100\n",
    "learning_rate = 0.00000005\n",
    "theta, cost_list = model(X, Y, learning_rate = learning_rate,\n",
    "iteration = iteration)"
   ]
  },
  {
   "cell_type": "markdown",
   "metadata": {},
   "source": [
    "# Prediction"
   ]
  },
  {
   "cell_type": "code",
   "execution_count": 9,
   "metadata": {},
   "outputs": [
    {
     "name": "stdout",
     "output_type": "stream",
     "text": [
      "Our model predicts the price of house with 1547 sq. ft. area as : $ 153759.0\n",
      "Our model predicts the price of house with 1896 sq. ft. area as : $ 188446.7\n",
      "Our model predicts the price of house with 1934 sq. ft. area as : $ 192223.59\n",
      "Our model predicts the price of house with 2800 sq. ft. area as : $ 278296.8\n",
      "Our model predicts the price of house with 3400 sq. ft. area as : $ 337931.81\n",
      "Our model predicts the price of house with 5000 sq. ft. area as : $ 496958.52\n"
     ]
    }
   ],
   "source": [
    "new_houses = np.array([[1, 1547], [1, 1896], [1, 1934], [1,\n",
    "2800], [1, 3400], [1, 5000]])\n",
    "for house in new_houses :\n",
    "    print(\"Our model predicts the price of house with\",\n",
    "    house[1], \"sq. ft. area as : $\", round(np.dot(house, theta)[0],\n",
    "    2))"
   ]
  },
  {
   "cell_type": "code",
   "execution_count": 11,
   "metadata": {},
   "outputs": [
    {
     "data": {
      "text/plain": [
       "array([[   1, 1547],\n",
       "       [   1, 1896],\n",
       "       [   1, 1934],\n",
       "       [   1, 2800],\n",
       "       [   1, 3400],\n",
       "       [   1, 5000]])"
      ]
     },
     "execution_count": 11,
     "metadata": {},
     "output_type": "execute_result"
    }
   ],
   "source": [
    "new_houses"
   ]
  },
  {
   "cell_type": "code",
   "execution_count": 12,
   "metadata": {},
   "outputs": [
    {
     "data": {
      "text/plain": [
       "(45, 2)"
      ]
     },
     "execution_count": 12,
     "metadata": {},
     "output_type": "execute_result"
    }
   ],
   "source": [
    "X.shape"
   ]
  },
  {
   "cell_type": "code",
   "execution_count": 10,
   "metadata": {},
   "outputs": [
    {
     "data": {
      "image/png": "[encoded data removed]",
      "text/plain": [
       "<Figure size 432x288 with 1 Axes>"
      ]
     },
     "metadata": {
      "needs_background": "light"
     },
     "output_type": "display_data"
    }
   ],
   "source": [
    "rng = np.arange(0, iteration)\n",
    "plt.plot(cost_list, rng)\n",
    "plt.show()"
   ]
  },
  {
   "cell_type": "code",
   "execution_count": null,
   "metadata": {},
   "outputs": [],
   "source": []
  }
 ],
 "metadata": {
  "kernelspec": {
   "display_name": "Python 3",
   "language": "python",
   "name": "python3"
  },
  "language_info": {
   "codemirror_mode": {
    "name": "ipython",
    "version": 3
   },
   "file_extension": ".py",
   "mimetype": "text/x-python",
   "name": "python",
   "nbconvert_exporter": "python",
   "pygments_lexer": "ipython3",
   "version": "3.7.4"
  }
 },
 "nbformat": 4,
 "nbformat_minor": 2
}
